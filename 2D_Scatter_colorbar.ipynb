{
 "cells": [
  {
   "cell_type": "code",
   "execution_count": null,
   "id": "5f26bccf",
   "metadata": {},
   "outputs": [],
   "source": [
    "import matplotlib.pyplot as plt\n",
    "fig = plt.figure(figsize=(10,6))\n",
    "plt.rcParams['font.size'] = 12\n",
    "plt.scatter((y_test.to_numpy() - y_pred_test_ANN.to_numpy())\n",
    "           ,final_data_test['Temperature']\n",
    "           ,c=(final_data_test['Fc']),\n",
    "           cmap='Blues_r', alpha=1, label= 'TPOT', s=200,marker = 'o' )\n",
    "plt.xlabel('Prediction Error')\n",
    "plt.ylabel('Temperature')\n",
    "plt.xlim(-25,50)\n",
    "plt.colorbar()"
   ]
  }
 ],
 "metadata": {
  "kernelspec": {
   "display_name": "Python 3 (ipykernel)",
   "language": "python",
   "name": "python3"
  },
  "language_info": {
   "codemirror_mode": {
    "name": "ipython",
    "version": 3
   },
   "file_extension": ".py",
   "mimetype": "text/x-python",
   "name": "python",
   "nbconvert_exporter": "python",
   "pygments_lexer": "ipython3",
   "version": "3.8.12"
  }
 },
 "nbformat": 4,
 "nbformat_minor": 5
}
