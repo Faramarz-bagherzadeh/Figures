{
 "cells": [
  {
   "cell_type": "code",
   "execution_count": null,
   "id": "a4b4271a",
   "metadata": {},
   "outputs": [],
   "source": [
    "plt.rcParams['font.size'] = 18\n",
    "fig = plt.figure(figsize=(8,8))\n",
    "plt.scatter(y_train , y_pred_train_ANN, color='orange', label = 'Train Set',s=100)\n",
    "plt.scatter(y_test , y_pred_test_ANN, label ='Test Set',s=100)\n",
    "plt.plot([0,300],[0,300], color = 'red')\n",
    "plt.xlim(-5,230)\n",
    "plt.ylim(-5,230)\n",
    "plt.xlabel('Real Values')\n",
    "plt.ylabel('Predicted Values')\n",
    "plt.legend()\n"
   ]
  }
 ],
 "metadata": {
  "kernelspec": {
   "display_name": "Python 3 (ipykernel)",
   "language": "python",
   "name": "python3"
  },
  "language_info": {
   "codemirror_mode": {
    "name": "ipython",
    "version": 3
   },
   "file_extension": ".py",
   "mimetype": "text/x-python",
   "name": "python",
   "nbconvert_exporter": "python",
   "pygments_lexer": "ipython3",
   "version": "3.8.12"
  }
 },
 "nbformat": 4,
 "nbformat_minor": 5
}
