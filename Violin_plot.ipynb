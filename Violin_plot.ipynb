{
 "cells": [
  {
   "cell_type": "code",
   "execution_count": null,
   "id": "e9c5057c",
   "metadata": {},
   "outputs": [],
   "source": [
    "import matplotlib.pyplot as plt\n",
    "import numpy as np\n",
    "import seaborn as sns\n",
    "plt.rcParams['font.size'] = 18\n",
    "#sns.set(style=\"ticks\")\n",
    "collectn_1 = t_350['Fc']-t_350['ANN']\n",
    "collectn_2 = t_700['Fc']-t_700['ANN']\n",
    "collectn_4 = t_1100['Fc']-t_1100['ANN']\n",
    "my_pal = {\"versicolor\": \"g\", \"setosa\": \"b\", \"virginica\": \"m\"}\n",
    "## combine these different collections into a list\n",
    "data_to_plot = [collectn_1, collectn_2,  collectn_4]\n",
    "\n",
    "plt.rcParams['font.size'] = 18\n",
    "fig = plt.figure(figsize=(10,8))\n",
    "# Create an axes instance\n",
    "ax = fig.add_axes([0,0,1,1])\n",
    "\n",
    "# Create the boxplot\n",
    "bp = ax.violinplot(data_to_plot,[1,2,3],showmeans=True,showmedians=False,showextrema=True)\n",
    "violin_parts = bp\n",
    "for pc in violin_parts['bodies']:\n",
    "    pc.set_facecolor('red')\n",
    "    pc.set_edgecolor('black')\n",
    "plt.show()\n"
   ]
  }
 ],
 "metadata": {
  "kernelspec": {
   "display_name": "Python 3 (ipykernel)",
   "language": "python",
   "name": "python3"
  },
  "language_info": {
   "codemirror_mode": {
    "name": "ipython",
    "version": 3
   },
   "file_extension": ".py",
   "mimetype": "text/x-python",
   "name": "python",
   "nbconvert_exporter": "python",
   "pygments_lexer": "ipython3",
   "version": "3.8.12"
  }
 },
 "nbformat": 4,
 "nbformat_minor": 5
}
