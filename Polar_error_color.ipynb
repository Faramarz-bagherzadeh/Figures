{
 "cells": [
  {
   "cell_type": "code",
   "execution_count": null,
   "id": "78355c78",
   "metadata": {},
   "outputs": [],
   "source": [
    "# Compute areas and colors\n",
    "#N = 150\n",
    "#area = 200 * r**2 , s=area\n",
    "#colors = theta\n",
    "range_error = y_test.max() - y_test.min()\n",
    "angel = (y_test.max() - y_test/range_error ) * 2 * np.pi\n",
    "\n",
    "fig = plt.figure(figsize =(12,12))\n",
    "ax = fig.add_subplot(projection='polar')\n",
    "\n",
    "#ax.set_rlim(-1500,2500)\n",
    "#c = ax.scatter(angel, data['Error'], c=data['Error'], cmap='hsv', alpha=0.75)\n",
    "c = ax.scatter(angel, (y_test.to_numpy() - y_pred_test_ANN.to_numpy()) \n",
    "               ,c=(y_test.to_numpy() - y_pred_test_ANN.to_numpy()),\n",
    "               cmap='hsv', alpha=1, label= 'ANN', s=200,marker = 'o')\n",
    "\n",
    "c = ax.scatter(angel, (y_test.to_numpy() - y_pred_test_TPOT.to_numpy()),\n",
    "               c = (y_test.to_numpy() - y_pred_test_TPOT.to_numpy())\n",
    "               ,cmap='hsv',s=50, alpha=1, label= 'Stacked', marker = 's')\n",
    "ax.legend()\n",
    "plt.title(\"FC real value VS prediction error\")\n",
    "#fig.rcParams['font.size'] = 12"
   ]
  }
 ],
 "metadata": {
  "kernelspec": {
   "display_name": "Python 3 (ipykernel)",
   "language": "python",
   "name": "python3"
  },
  "language_info": {
   "codemirror_mode": {
    "name": "ipython",
    "version": 3
   },
   "file_extension": ".py",
   "mimetype": "text/x-python",
   "name": "python",
   "nbconvert_exporter": "python",
   "pygments_lexer": "ipython3",
   "version": "3.8.12"
  }
 },
 "nbformat": 4,
 "nbformat_minor": 5
}
