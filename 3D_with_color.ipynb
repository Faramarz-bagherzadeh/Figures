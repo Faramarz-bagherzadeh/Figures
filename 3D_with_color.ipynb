{
 "cells": [
  {
   "cell_type": "code",
   "execution_count": null,
   "id": "899c384c",
   "metadata": {},
   "outputs": [],
   "source": [
    "import matplotlib.pyplot as plt\n",
    "plt.rcParams['font.size'] = 12\n",
    "plt.figure()\n",
    "fig = plt.figure(figsize=(20,20))\n",
    "ax = fig.add_subplot(projection='3d')\n",
    "import matplotlib.cm as cm\n",
    "#plt.xlim(0,7000)\n",
    "#plt.ylim(14000,50000)\n",
    "ax.set_xlabel('Fc')\n",
    "ax.set_ylabel('Prediction Error')\n",
    "ax.set_zlabel('Temperature')\n",
    "ax.scatter(final_data_test['Fc'],(y_test.to_numpy() - y_pred_test_TPOT.to_numpy())\n",
    "           ,final_data_test['Temperature']\n",
    "           ,c=(y_test.to_numpy()),\n",
    "           cmap='hsv', alpha=1, label= 'TPOT', s=200,marker = 'o')\n",
    "ax.scatter(final_data_test['Fc'],(y_test.to_numpy() - y_pred_test_ANN.to_numpy())\n",
    "           ,final_data_test['Temperature']\n",
    "           ,c=(y_test.to_numpy()),\n",
    "           cmap='hsv', alpha=1, label= 'ANN', s=200,marker = 's')\n",
    "plt.legend()\n",
    "ax.view_init(-160, 60)\n",
    "plt.show()"
   ]
  }
 ],
 "metadata": {
  "kernelspec": {
   "display_name": "Python 3 (ipykernel)",
   "language": "python",
   "name": "python3"
  },
  "language_info": {
   "codemirror_mode": {
    "name": "ipython",
    "version": 3
   },
   "file_extension": ".py",
   "mimetype": "text/x-python",
   "name": "python",
   "nbconvert_exporter": "python",
   "pygments_lexer": "ipython3",
   "version": "3.8.12"
  }
 },
 "nbformat": 4,
 "nbformat_minor": 5
}
